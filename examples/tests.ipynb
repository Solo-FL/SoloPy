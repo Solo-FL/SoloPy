{
 "cells": [
  {
   "cell_type": "code",
   "execution_count": null,
   "metadata": {},
   "outputs": [],
   "source": [
    "import SoloPy2 as solo\n",
    "import logging\n",
    "\n",
    "# \"COM3\" as connection with windows10\n",
    "mySolo = solo.SoloMotorController(address = 0, baudrate = 937500, port =  \"COM3\")\n",
    "\n",
    "# \"COM3\" as connection with windows10 + loggerLevel \n",
    "#mySolo = Solo.SoloMotorController(address = 0, baudrate = 937500, port =  \"COM3\", loggerLevel = logging.DEBUG)"
   ]
  },
  {
   "cell_type": "code",
   "execution_count": null,
   "metadata": {},
   "outputs": [],
   "source": [
    "import SoloPy2 as solo\n",
    "mySolo = solo.SoloMotorController(address = 0, baudrate = 937500, port =  \"COM3\")"
   ]
  },
  {
   "cell_type": "markdown",
   "metadata": {},
   "source": [
    "Checking address funtions"
   ]
  },
  {
   "cell_type": "code",
   "execution_count": null,
   "metadata": {},
   "outputs": [],
   "source": [
    "print(mySolo.get_device_address())\n",
    "print(mySolo.set_device_address(12))\n",
    "print(mySolo.get_device_address())\n",
    "print(mySolo.reset_address())\n",
    "print(mySolo.get_device_address())"
   ]
  },
  {
   "cell_type": "markdown",
   "metadata": {},
   "source": [
    "Checking setting getting funcionts"
   ]
  },
  {
   "cell_type": "code",
   "execution_count": null,
   "metadata": {},
   "outputs": [],
   "source": [
    "print(mySolo.set_command_mode(solo.COMMAND_MODE.DIGITAL))\n",
    "print(mySolo.get_command_mode())\n",
    "\n",
    "print(mySolo.set_motor_direction(solo.DIRECTION.CLOCKWISE))\n",
    "print(mySolo.get_motor_direction())\n",
    "\n",
    "print(mySolo.set_motor_type(solo.MOTOR_TYPE.BLDC_PMSM_ULTRAFAST))\n",
    "print(mySolo.get_motor_type())\n",
    "\n",
    "print(mySolo.set_feedback_control_mode(solo.FEEDBACK_CONTROL_MODE.ENCODERS))\n",
    "print(mySolo.get_feedback_control_mode())\n",
    "\n",
    "print(mySolo.set_control_mode(solo.CONTROL_MODE.TORQUE_MODE))\n",
    "print(mySolo.get_control_mode())"
   ]
  },
  {
   "cell_type": "code",
   "execution_count": null,
   "metadata": {},
   "outputs": [],
   "source": [
    "print(mySolo.set_uart_baudrate(solo.UART_BAUD_RATE.RATE_937500))\n",
    "print(mySolo.get_uart_baudrate())\n",
    "\n",
    "print(mySolo.set_can_bus_baudrate(solo.CAN_BUS_BAUD_RATE.RATE_125))\n",
    "print(mySolo.get_can_bus_baudrate())"
   ]
  },
  {
   "cell_type": "code",
   "execution_count": null,
   "metadata": {},
   "outputs": [],
   "source": [
    "print(mySolo.get_phase_a_voltage())\n",
    "print(mySolo.get_phase_b_voltage())\n",
    "print(mySolo.get_phase_a_current())\n",
    "print(mySolo.get_phase_b_current())"
   ]
  },
  {
   "cell_type": "code",
   "execution_count": null,
   "metadata": {},
   "outputs": [],
   "source": [
    "print(mySolo.get_bus_voltage())\n",
    "print(mySolo.get_board_temperature())\n",
    "print(mySolo.get_error_register())\n",
    "print(mySolo.overwrite_error_register())\n",
    "print(mySolo.get_device_firmware_version())\n",
    "print(mySolo.get_device_hardware_version())\n",
    "print(mySolo.version())"
   ]
  },
  {
   "cell_type": "code",
   "execution_count": null,
   "metadata": {},
   "outputs": [],
   "source": [
    "print(mySolo.get_dc_motor_current_im())\n",
    "print(mySolo.get_dc_motor_voltage_vm())"
   ]
  },
  {
   "cell_type": "code",
   "execution_count": null,
   "metadata": {},
   "outputs": [],
   "source": [
    "print(mySolo.set_speed_controller_kp(14.5))\n",
    "print(mySolo.get_speed_controller_kp())\n",
    "\n",
    "print(mySolo.set_speed_controller_ki(15.5))\n",
    "print(mySolo.get_speed_controller_ki())\n",
    "\n",
    "print(mySolo.set_position_controller_kp(16))\n",
    "print(mySolo.get_position_controller_kp())\n",
    "\n",
    "print(mySolo.set_position_controller_ki(17))\n",
    "print(mySolo.get_position_controller_ki())"
   ]
  },
  {
   "cell_type": "code",
   "execution_count": null,
   "metadata": {},
   "outputs": [],
   "source": [
    "print(mySolo.set_output_pwm_frequency_khz(50))\n",
    "print(mySolo.get_output_pwm_frequency_khz())"
   ]
  },
  {
   "cell_type": "code",
   "execution_count": null,
   "metadata": {},
   "outputs": [],
   "source": [
    "print(mySolo.set_current_limit(5.5))\n",
    "print(mySolo.get_current_limit())\n",
    "\n",
    "print(mySolo.set_speed_limit(600))\n",
    "print(mySolo.get_speed_limit())"
   ]
  },
  {
   "cell_type": "code",
   "execution_count": null,
   "metadata": {},
   "outputs": [],
   "source": [
    "print(mySolo.set_motor_poles_counts(8))\n",
    "print(mySolo.get_motor_poles_counts())\n",
    "\n",
    "print(mySolo.set_incremental_encoder_lines(5))\n",
    "print(mySolo.get_incremental_encoder_lines())"
   ]
  },
  {
   "cell_type": "code",
   "execution_count": null,
   "metadata": {},
   "outputs": [],
   "source": [
    "print(mySolo.set_observer_gain_bldc_pmsm(10.5))\n",
    "print(mySolo.get_observer_gain_bldc_pmsm())\n",
    "\n",
    "print(mySolo.set_observer_gain_bldc_pmsm_ultrafast(11.5))\n",
    "print(mySolo.get_observer_gain_bldc_pmsm_ultrafast())\n",
    "\n",
    "print(mySolo.set_observer_gain_dc(12.5))\n",
    "print(mySolo.get_observer_gain_dc())\n",
    "\n",
    "print(mySolo.set_filter_gain_bldc_pmsm(13.5))\n",
    "print(mySolo.get_filter_gain_bldc_pmsm())\n",
    "\n",
    "print(mySolo.set_filter_gain_bldc_pmsm_ultrafast(14.5))\n",
    "print(mySolo.get_filter_gain_bldc_pmsm_ultrafast())"
   ]
  },
  {
   "cell_type": "code",
   "execution_count": null,
   "metadata": {},
   "outputs": [],
   "source": [
    "print(mySolo.set_speed_acceleration_value(15))\n",
    "print(mySolo.get_speed_acceleration_value())\n",
    "\n",
    "print(mySolo.set_speed_deceleration_value(16))\n",
    "print(mySolo.get_speed_deceleration_value())"
   ]
  },
  {
   "cell_type": "code",
   "execution_count": null,
   "metadata": {},
   "outputs": [],
   "source": [
    "print(mySolo.set_speed_reference(20))\n",
    "print(mySolo.get_speed_reference())\n",
    "\n",
    "print(mySolo.set_torque_reference_iq(21))\n",
    "print(mySolo.get_torque_reference_iq())\n",
    "\n",
    "print(mySolo.set_position_reference(-23))\n",
    "print(mySolo.get_position_reference())\n",
    "\n",
    "print(mySolo.set_magnetizing_current_id_reference(24))\n",
    "print(mySolo.get_magnetizing_current_id_reference())\n",
    "\n",
    "print(mySolo.set_power_reference(25))\n",
    "print(mySolo.get_power_reference())"
   ]
  },
  {
   "cell_type": "code",
   "execution_count": null,
   "metadata": {},
   "outputs": [],
   "source": [
    "print(mySolo.set_encoder_hall_ccw_offset(0.01))\n",
    "print(mySolo.get_encoder_hall_ccw_offset())\n",
    "\n",
    "print(mySolo.set_encoder__hall_cw_offset(0.02))\n",
    "print(mySolo.get_encoder__hall_cw_offset())"
   ]
  },
  {
   "cell_type": "code",
   "execution_count": null,
   "metadata": {},
   "outputs": [],
   "source": [
    "print(mySolo.get_speed_feedback())\n",
    "print(mySolo.get_position_counts_feedback())\n",
    "print(mySolo.get_encoder_index_counts())\n",
    "print(mySolo.get_magnetizing_current_id_feedback())\n",
    "print(mySolo.get_quadrature_current_iq_feedback())\n",
    "print(mySolo.get_3phase_motor_angle())"
   ]
  },
  {
   "cell_type": "markdown",
   "metadata": {},
   "source": [
    "NORE, the nexts command will be possible to read only recyle the power of SOLO"
   ]
  },
  {
   "cell_type": "code",
   "execution_count": null,
   "metadata": {},
   "outputs": [],
   "source": [
    "print(mySolo.set_motor_resistance(13))\n",
    "print(mySolo.get_motor_resistance()) #ISSUE BUT EQUEAL TO MT\n",
    "\n",
    "print(mySolo.set_current_controller_ki(17.0))\n",
    "print(mySolo.get_current_controller_ki()) #ISSUE BUT EQUEAL TO MT\n",
    "\n",
    "print(mySolo.set_current_controller_kp(16))\n",
    "print(mySolo.get_current_controller_kp())\n",
    "\n",
    "print(mySolo.set_motor_inductance(0.0305))\n",
    "print(mySolo.get_motor_inductance())"
   ]
  },
  {
   "cell_type": "code",
   "execution_count": null,
   "metadata": {},
   "outputs": [],
   "source": [
    "#Closing the connection to SOLO\n",
    "mySolo.serial_close()"
   ]
  }
 ],
 "metadata": {
  "interpreter": {
   "hash": "57baa5815c940fdaff4d14510622de9616cae602444507ba5d0b6727c008cbd6"
  },
  "kernelspec": {
   "display_name": "Python 3.7.5 64-bit",
   "language": "python",
   "name": "python3"
  },
  "language_info": {
   "codemirror_mode": {
    "name": "ipython",
    "version": 3
   },
   "file_extension": ".py",
   "mimetype": "text/x-python",
   "name": "python",
   "nbconvert_exporter": "python",
   "pygments_lexer": "ipython3",
   "version": "3.9.10"
  },
  "orig_nbformat": 4
 },
 "nbformat": 4,
 "nbformat_minor": 2
}
